{
 "cells": [
  {
   "cell_type": "markdown",
   "id": "b333ad32-7cb5-4e31-a404-e01030188df7",
   "metadata": {},
   "source": [
    "The notebook used to store the utils functions or classes."
   ]
  },
  {
   "cell_type": "code",
   "execution_count": 1,
   "id": "2a0c9a7f-0b0e-4c8e-8599-facbf553f217",
   "metadata": {},
   "outputs": [
    {
     "name": "stdout",
     "output_type": "stream",
     "text": [
      "Load EarlyStopper\n"
     ]
    }
   ],
   "source": [
    "print(\"Load EarlyStopper\")\n",
    "\n",
    "\n",
    "class EarlyStopper:\n",
    "    \"\"\"The class used for early stopping during training when the loss doesn't\n",
    "    decrease validly after some patience steps\n",
    "    \"\"\"\n",
    "\n",
    "    def __init__(self, patience: int = 1, min_delta: float = 0) -> None:\n",
    "        \"\"\"Constructor\n",
    "\n",
    "        Parameters\n",
    "        ----------\n",
    "        patience: int, default 1\n",
    "            the number of steps after which the training stops if the loss\n",
    "            doesn't decrease\n",
    "        min_delta: float, default 0\n",
    "            the minimal delta, if the current loss is more than the sum of the\n",
    "            delta and the minimal loss, the counter will be added 1 as one\n",
    "            non-decreasing iteration\n",
    "        \"\"\"\n",
    "        self.patience = patience\n",
    "        self.min_delta = min_delta\n",
    "        self.counter = 0\n",
    "        self.min_loss = np.inf\n",
    "\n",
    "    def __call__(self, loss: float) -> bool:\n",
    "        \"\"\"Checks whether the non-valid non-decreasing loss is accumulated up to\n",
    "        the limit patience\n",
    "\n",
    "        Parameters\n",
    "        ----------\n",
    "        loss: float\n",
    "            the current loss\n",
    "\n",
    "        Returns\n",
    "        -------\n",
    "        bool\n",
    "            the indicator if to stop the training\n",
    "        \"\"\"\n",
    "        if loss < self.min_loss:\n",
    "            # once there is a new minimal loss\n",
    "            self.min_loss = loss\n",
    "            self.counter = 0\n",
    "        elif loss > (self.min_loss + self.min_delta):\n",
    "            self.counter += 1\n",
    "            if self.counter >= self.patience:\n",
    "                return True\n",
    "        return False"
   ]
  },
  {
   "cell_type": "code",
   "execution_count": null,
   "id": "be5fe4d9-e8aa-44b7-a7e7-a318f53e18bb",
   "metadata": {},
   "outputs": [],
   "source": []
  }
 ],
 "metadata": {
  "kernelspec": {
   "display_name": "Python 3 (ipykernel)",
   "language": "python",
   "name": "python3"
  },
  "language_info": {
   "codemirror_mode": {
    "name": "ipython",
    "version": 3
   },
   "file_extension": ".py",
   "mimetype": "text/x-python",
   "name": "python",
   "nbconvert_exporter": "python",
   "pygments_lexer": "ipython3",
   "version": "3.9.16"
  }
 },
 "nbformat": 4,
 "nbformat_minor": 5
}
